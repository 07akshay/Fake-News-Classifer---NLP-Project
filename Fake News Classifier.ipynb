{
 "cells": [
  {
   "cell_type": "code",
   "execution_count": 29,
   "metadata": {},
   "outputs": [],
   "source": [
    "import pandas as pd\n",
    "import tensorflow as tf\n",
    "import nltk\n",
    "import re\n",
    "import numpy as np\n",
    "from nltk.corpus import stopwords\n",
    "from nltk.stem.porter import PorterStemmer\n",
    "from tensorflow.keras.layers import Embedding\n",
    "from tensorflow.keras.preprocessing.sequence import pad_sequences\n",
    "from tensorflow.keras.models import Sequential\n",
    "from tensorflow.keras.preprocessing.text import one_hot\n",
    "from tensorflow.keras.layers import Dense\n",
    "from tensorflow.keras.layers import LSTM\n",
    "from tensorflow.keras.layers import Dropout\n",
    "from sklearn.model_selection import train_test_split\n",
    "from sklearn.metrics import confusion_matrix\n",
    "from sklearn.metrics import accuracy_score"
   ]
  },
  {
   "cell_type": "code",
   "execution_count": 3,
   "metadata": {},
   "outputs": [],
   "source": [
    "df = pd.read_csv('Downloads/train.csv')"
   ]
  },
  {
   "cell_type": "code",
   "execution_count": 4,
   "metadata": {},
   "outputs": [],
   "source": [
    "df = df.dropna()"
   ]
  },
  {
   "cell_type": "code",
   "execution_count": 5,
   "metadata": {},
   "outputs": [],
   "source": [
    "X = df.drop('label',axis = 1)\n",
    "y = df['label']"
   ]
  },
  {
   "cell_type": "code",
   "execution_count": 6,
   "metadata": {},
   "outputs": [],
   "source": [
    "voc_size = 5000\n",
    "messages = X.copy()\n",
    "messages.reset_index(inplace=True)"
   ]
  },
  {
   "cell_type": "code",
   "execution_count": 8,
   "metadata": {},
   "outputs": [
    {
     "name": "stderr",
     "output_type": "stream",
     "text": [
      "[nltk_data] Downloading package stopwords to /home/akshay/nltk_data...\n",
      "[nltk_data]   Unzipping corpora/stopwords.zip.\n"
     ]
    },
    {
     "data": {
      "text/plain": [
       "True"
      ]
     },
     "execution_count": 8,
     "metadata": {},
     "output_type": "execute_result"
    }
   ],
   "source": [
    "nltk.download('stopwords')"
   ]
  },
  {
   "cell_type": "code",
   "execution_count": 11,
   "metadata": {},
   "outputs": [],
   "source": [
    "ps = PorterStemmer()\n",
    "all_words =[]\n",
    "for i in range(0, len(messages)):\n",
    "    review =re.sub('[^a-zA-Z]', ' ', messages['title'][i])\n",
    "    review = review.lower()\n",
    "    review = review.split()\n",
    "    review = [ps.stem(word) for word in review if not word in stopwords.words('english')]\n",
    "    review = ' '.join(review)\n",
    "    all_words.append(review)"
   ]
  },
  {
   "cell_type": "code",
   "execution_count": 20,
   "metadata": {},
   "outputs": [],
   "source": [
    "onehot_repr = [one_hot(words,voc_size)for words in all_words]"
   ]
  },
  {
   "cell_type": "code",
   "execution_count": 30,
   "metadata": {},
   "outputs": [],
   "source": [
    "sent_length = 20\n",
    "embedded_docs = pad_sequences(onehot_repr,padding='pre',maxlen=sent_length)\n",
    "emb_vec_features = 40\n",
    "model = Sequential()\n",
    "model.add(Embedding(voc_size,emb_vec_features,input_length = sent_length))\n",
    "model.add(Dropout(0.3))\n",
    "model.add(LSTM(100))\n",
    "model.add(Dropout(0.3))\n",
    "model.add(Dense(1,activation = 'sigmoid'))\n",
    "model.compile(loss='binary_crossentropy',optimizer ='adam',metrics=['accuracy'])"
   ]
  },
  {
   "cell_type": "code",
   "execution_count": 31,
   "metadata": {},
   "outputs": [],
   "source": [
    "X_f = np.array(embedded_docs)\n",
    "y_f = np.array(y)\n",
    "X_train, X_test, y_train,y_test=train_test_split(X_f,y_f,test_size=0.33, random_state=42)"
   ]
  },
  {
   "cell_type": "code",
   "execution_count": 32,
   "metadata": {},
   "outputs": [
    {
     "name": "stdout",
     "output_type": "stream",
     "text": [
      "Epoch 1/10\n",
      "192/192 [==============================] - 4s 20ms/step - loss: 0.3388 - accuracy: 0.8389 - val_loss: 0.1956 - val_accuracy: 0.9165\n",
      "Epoch 2/10\n",
      "192/192 [==============================] - 3s 18ms/step - loss: 0.1493 - accuracy: 0.9425 - val_loss: 0.1863 - val_accuracy: 0.9254\n",
      "Epoch 3/10\n",
      "192/192 [==============================] - 3s 18ms/step - loss: 0.1082 - accuracy: 0.9598 - val_loss: 0.2111 - val_accuracy: 0.9215\n",
      "Epoch 4/10\n",
      "192/192 [==============================] - 4s 18ms/step - loss: 0.0846 - accuracy: 0.9700 - val_loss: 0.2455 - val_accuracy: 0.9173\n",
      "Epoch 5/10\n",
      "192/192 [==============================] - 4s 18ms/step - loss: 0.0728 - accuracy: 0.9738 - val_loss: 0.2624 - val_accuracy: 0.9181\n",
      "Epoch 6/10\n",
      "192/192 [==============================] - 4s 22ms/step - loss: 0.0587 - accuracy: 0.9806 - val_loss: 0.2653 - val_accuracy: 0.9168\n",
      "Epoch 7/10\n",
      "192/192 [==============================] - 4s 22ms/step - loss: 0.0476 - accuracy: 0.9844 - val_loss: 0.3462 - val_accuracy: 0.9171\n",
      "Epoch 8/10\n",
      "192/192 [==============================] - 4s 20ms/step - loss: 0.0376 - accuracy: 0.9877 - val_loss: 0.3439 - val_accuracy: 0.9138\n",
      "Epoch 9/10\n",
      "192/192 [==============================] - 4s 21ms/step - loss: 0.0272 - accuracy: 0.9909 - val_loss: 0.3591 - val_accuracy: 0.9150\n",
      "Epoch 10/10\n",
      "192/192 [==============================] - 4s 20ms/step - loss: 0.0279 - accuracy: 0.9909 - val_loss: 0.3908 - val_accuracy: 0.9059\n"
     ]
    },
    {
     "data": {
      "text/plain": [
       "<tensorflow.python.keras.callbacks.History at 0x7fec103e2430>"
      ]
     },
     "execution_count": 32,
     "metadata": {},
     "output_type": "execute_result"
    }
   ],
   "source": [
    "model.fit(X_train,y_train,validation_data=(X_test,y_test),epochs=10,batch_size=64)"
   ]
  },
  {
   "cell_type": "code",
   "execution_count": 33,
   "metadata": {},
   "outputs": [
    {
     "data": {
      "text/plain": [
       "(array([[3158,  261],\n",
       "        [ 307, 2309]]),\n",
       " 0.9058823529411765)"
      ]
     },
     "execution_count": 33,
     "metadata": {},
     "output_type": "execute_result"
    }
   ],
   "source": [
    "y_pred = model.predict_classes(X_test)\n",
    "confusion_matrix(y_test,y_pred),accuracy_score(y_test,y_pred)"
   ]
  },
  {
   "cell_type": "code",
   "execution_count": null,
   "metadata": {},
   "outputs": [],
   "source": []
  }
 ],
 "metadata": {
  "kernelspec": {
   "display_name": "Python 3",
   "language": "python",
   "name": "python3"
  },
  "language_info": {
   "codemirror_mode": {
    "name": "ipython",
    "version": 3
   },
   "file_extension": ".py",
   "mimetype": "text/x-python",
   "name": "python",
   "nbconvert_exporter": "python",
   "pygments_lexer": "ipython3",
   "version": "3.8.5"
  }
 },
 "nbformat": 4,
 "nbformat_minor": 4
}
